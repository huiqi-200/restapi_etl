{
 "cells": [
  {
   "cell_type": "code",
   "execution_count": 2,
   "metadata": {},
   "outputs": [],
   "source": [
    "from requests_weather import get_weather_forecast"
   ]
  },
  {
   "cell_type": "code",
   "execution_count": 18,
   "metadata": {},
   "outputs": [],
   "source": [
    "weather_json_dict = get_weather_forecast(url = \"https://api.data.gov.sg/v1/environment/4-day-weather-forecast\")"
   ]
  },
  {
   "cell_type": "code",
   "execution_count": 19,
   "metadata": {},
   "outputs": [
    {
     "data": {
      "text/plain": [
       "[{'temperature': {'low': 24, 'high': 34},\n",
       "  'date': '2024-03-10',\n",
       "  'forecast': 'Afternoon thundery showers',\n",
       "  'relative_humidity': {'low': 55, 'high': 95},\n",
       "  'wind': {'speed': {'low': 15, 'high': 30}, 'direction': 'NNE'},\n",
       "  'timestamp': '2024-03-10T00:00:00+08:00'},\n",
       " {'temperature': {'low': 25, 'high': 34},\n",
       "  'date': '2024-03-11',\n",
       "  'forecast': 'Fair and occasionally windy ',\n",
       "  'relative_humidity': {'low': 50, 'high': 90},\n",
       "  'wind': {'speed': {'low': 15, 'high': 30}, 'direction': 'N'},\n",
       "  'timestamp': '2024-03-11T00:00:00+08:00'},\n",
       " {'temperature': {'low': 24, 'high': 34},\n",
       "  'date': '2024-03-12',\n",
       "  'forecast': 'Afternoon showers',\n",
       "  'relative_humidity': {'low': 55, 'high': 90},\n",
       "  'wind': {'speed': {'low': 15, 'high': 30}, 'direction': 'N'},\n",
       "  'timestamp': '2024-03-12T00:00:00+08:00'},\n",
       " {'temperature': {'low': 25, 'high': 34},\n",
       "  'date': '2024-03-13',\n",
       "  'forecast': 'Fair and occasionally windy',\n",
       "  'relative_humidity': {'low': 50, 'high': 90},\n",
       "  'wind': {'speed': {'low': 15, 'high': 30}, 'direction': 'NNW'},\n",
       "  'timestamp': '2024-03-13T00:00:00+08:00'}]"
      ]
     },
     "execution_count": 19,
     "metadata": {},
     "output_type": "execute_result"
    }
   ],
   "source": [
    "weather_json_dict['items'][0]['forecasts']"
   ]
  }
 ],
 "metadata": {
  "kernelspec": {
   "display_name": ".venv",
   "language": "python",
   "name": "python3"
  },
  "language_info": {
   "codemirror_mode": {
    "name": "ipython",
    "version": 3
   },
   "file_extension": ".py",
   "mimetype": "text/x-python",
   "name": "python",
   "nbconvert_exporter": "python",
   "pygments_lexer": "ipython3",
   "version": "3.10.11"
  }
 },
 "nbformat": 4,
 "nbformat_minor": 2
}
